{
 "cells": [
  {
   "cell_type": "markdown",
   "id": "fa0fa229",
   "metadata": {},
   "source": [
    "# Module 2: EDA Understanding the problem space"
   ]
  },
  {
   "cell_type": "markdown",
   "id": "9946ad89",
   "metadata": {},
   "source": [
    "First we load the datasets, previously downloaded with the script download_datasets.py.\n",
    "For each of them we do an initial exploration of the information stored and perform sanity checks."
   ]
  },
  {
   "cell_type": "code",
   "execution_count": 1,
   "id": "e05fed43",
   "metadata": {},
   "outputs": [
    {
     "name": "stdout",
     "output_type": "stream",
     "text": [
      "Loaded users: (4983, 10)\n",
      "Loaded orders: (8773, 6)\n",
      "Loaded abandoned_carts: (5457, 4)\n",
      "Loaded inventory: (1733, 6)\n",
      "Loaded regulars: (18105, 3)\n"
     ]
    }
   ],
   "source": [
    "import pandas as pd\n",
    "from pathlib import Path\n",
    "\n",
    "def load_parquet_files(folder: str) -> dict[str, pd.DataFrame]:\n",
    "    path = Path(folder)\n",
    "    dfs = {}\n",
    "    for file in path.glob(\"*.parquet\"):\n",
    "        name = file.stem\n",
    "        dfs[name] = pd.read_parquet(file)\n",
    "        print(f\"Loaded {name}: {dfs[name].shape}\")\n",
    "    return dfs\n",
    "\n",
    "dfs = load_parquet_files(\"groceries_datasets/raw/\")\n",
    "\n",
    "orders = dfs[\"orders\"]\n",
    "regulars = dfs[\"regulars\"]\n",
    "abandoned = dfs[\"abandoned_carts\"]\n",
    "inventory = dfs[\"inventory\"]\n",
    "users = dfs[\"users\"]"
   ]
  },
  {
   "cell_type": "markdown",
   "id": "a62a673c",
   "metadata": {},
   "source": [
    "## Initial exploration and quick checks"
   ]
  },
  {
   "cell_type": "code",
   "execution_count": 2,
   "id": "787b37a4",
   "metadata": {},
   "outputs": [],
   "source": [
    "from IPython.display import display\n",
    "\n",
    "def check_mixed_data_types(df: pd.DataFrame, verbose: bool = True) -> dict:\n",
    "    \"\"\"\n",
    "    Checks for columns with mixed data types in a DataFrame.\n",
    "    \"\"\"\n",
    "    mixed_columns = {}\n",
    "\n",
    "    for col in df.columns:\n",
    "        type_counts = df[col].apply(lambda x: type(x).__name__).value_counts()\n",
    "        if len(type_counts) > 1:\n",
    "            mixed_columns[col] = type_counts.to_dict()\n",
    "            if verbose:\n",
    "                print(f\"\\nColumn '{col}' has mixed types:\")\n",
    "                print(type_counts)\n",
    "    if verbose and not mixed_columns:\n",
    "            print(\"No columns with mixed data types found.\")\n",
    "    return mixed_columns\n",
    "\n",
    "\n",
    "\n",
    "def dataset_initial_exploration(df: pd.DataFrame, name: str = \"Dataset\"):\n",
    "    \"\"\"\n",
    "    Performs a basic exploratory analysis of the DataFrame.\n",
    "    \"\"\"\n",
    "    print(f\"\\n--- {name} Initial check ---\")\n",
    "    print(f\"Shape: {df.shape}\")\n",
    "    print(\"\\nData Types:\\n\", df.dtypes)\n",
    "    print(\"\\nMissing Values:\\n\", df.isnull().sum())\n",
    "    print(\"\\nSample Rows:\\n\")\n",
    "    display(df.sample(min(5, len(df))))\n",
    "    print(\"\\nChecking for mixed data types...\")\n",
    "    check_mixed_data_types(df)\n"
   ]
  },
  {
   "cell_type": "markdown",
   "id": "b24273e9",
   "metadata": {},
   "source": [
    "### Check orders dataframe"
   ]
  },
  {
   "cell_type": "code",
   "execution_count": 3,
   "id": "ccc08fb2",
   "metadata": {},
   "outputs": [
    {
     "name": "stdout",
     "output_type": "stream",
     "text": [
      "\n",
      "--- Orders Initial check ---\n",
      "Shape: (8773, 6)\n",
      "\n",
      "Data Types:\n",
      " id                         int64\n",
      "user_id                   object\n",
      "created_at        datetime64[us]\n",
      "order_date        datetime64[us]\n",
      "user_order_seq             int64\n",
      "ordered_items             object\n",
      "dtype: object\n",
      "\n",
      "Missing Values:\n",
      " id                0\n",
      "user_id           0\n",
      "created_at        0\n",
      "order_date        0\n",
      "user_order_seq    0\n",
      "ordered_items     0\n",
      "dtype: int64\n",
      "\n",
      "Sample Rows:\n",
      "\n"
     ]
    },
    {
     "data": {
      "text/html": [
       "<div>\n",
       "<style scoped>\n",
       "    .dataframe tbody tr th:only-of-type {\n",
       "        vertical-align: middle;\n",
       "    }\n",
       "\n",
       "    .dataframe tbody tr th {\n",
       "        vertical-align: top;\n",
       "    }\n",
       "\n",
       "    .dataframe thead th {\n",
       "        text-align: right;\n",
       "    }\n",
       "</style>\n",
       "<table border=\"1\" class=\"dataframe\">\n",
       "  <thead>\n",
       "    <tr style=\"text-align: right;\">\n",
       "      <th></th>\n",
       "      <th>id</th>\n",
       "      <th>user_id</th>\n",
       "      <th>created_at</th>\n",
       "      <th>order_date</th>\n",
       "      <th>user_order_seq</th>\n",
       "      <th>ordered_items</th>\n",
       "    </tr>\n",
       "  </thead>\n",
       "  <tbody>\n",
       "    <tr>\n",
       "      <th>37642</th>\n",
       "      <td>3873455046788</td>\n",
       "      <td>976329131971b0e205c3c3394409c7d4ff8a0acbdc13a7...</td>\n",
       "      <td>2021-11-08 11:59:40</td>\n",
       "      <td>2021-11-08</td>\n",
       "      <td>2</td>\n",
       "      <td>[33826431729796, 34086451642500, 3411360609088...</td>\n",
       "    </tr>\n",
       "    <tr>\n",
       "      <th>6251</th>\n",
       "      <td>2893243777156</td>\n",
       "      <td>f458007fb54eb38cac35d8d511fd06083ddf015da78fca...</td>\n",
       "      <td>2021-01-09 15:34:54</td>\n",
       "      <td>2021-01-09</td>\n",
       "      <td>1</td>\n",
       "      <td>[33667265855620, 33826414231684, 3382643100890...</td>\n",
       "    </tr>\n",
       "    <tr>\n",
       "      <th>35464</th>\n",
       "      <td>3865667731588</td>\n",
       "      <td>f713fbdb3756858c500a6eb0bf4831c5213a4d142511cd...</td>\n",
       "      <td>2021-10-30 18:54:43</td>\n",
       "      <td>2021-10-30</td>\n",
       "      <td>1</td>\n",
       "      <td>[33667185279108, 33667265855620, 3366728951411...</td>\n",
       "    </tr>\n",
       "    <tr>\n",
       "      <th>32254</th>\n",
       "      <td>3848790900868</td>\n",
       "      <td>ecfc53ac84d9db2930d47ba66a842202ea6eae8c71beba...</td>\n",
       "      <td>2021-10-13 11:47:12</td>\n",
       "      <td>2021-10-13</td>\n",
       "      <td>3</td>\n",
       "      <td>[34519123886212, 34519123886212, 3451912388621...</td>\n",
       "    </tr>\n",
       "    <tr>\n",
       "      <th>62879</th>\n",
       "      <td>4015349366916</td>\n",
       "      <td>b2c4377d356912299a56b62a5f14935806a45b22bd09d8...</td>\n",
       "      <td>2022-03-03 07:11:52</td>\n",
       "      <td>2022-03-03</td>\n",
       "      <td>4</td>\n",
       "      <td>[33826420850820, 33826420850820, 3382642822362...</td>\n",
       "    </tr>\n",
       "  </tbody>\n",
       "</table>\n",
       "</div>"
      ],
      "text/plain": [
       "                  id                                            user_id  \\\n",
       "37642  3873455046788  976329131971b0e205c3c3394409c7d4ff8a0acbdc13a7...   \n",
       "6251   2893243777156  f458007fb54eb38cac35d8d511fd06083ddf015da78fca...   \n",
       "35464  3865667731588  f713fbdb3756858c500a6eb0bf4831c5213a4d142511cd...   \n",
       "32254  3848790900868  ecfc53ac84d9db2930d47ba66a842202ea6eae8c71beba...   \n",
       "62879  4015349366916  b2c4377d356912299a56b62a5f14935806a45b22bd09d8...   \n",
       "\n",
       "               created_at order_date  user_order_seq  \\\n",
       "37642 2021-11-08 11:59:40 2021-11-08               2   \n",
       "6251  2021-01-09 15:34:54 2021-01-09               1   \n",
       "35464 2021-10-30 18:54:43 2021-10-30               1   \n",
       "32254 2021-10-13 11:47:12 2021-10-13               3   \n",
       "62879 2022-03-03 07:11:52 2022-03-03               4   \n",
       "\n",
       "                                           ordered_items  \n",
       "37642  [33826431729796, 34086451642500, 3411360609088...  \n",
       "6251   [33667265855620, 33826414231684, 3382643100890...  \n",
       "35464  [33667185279108, 33667265855620, 3366728951411...  \n",
       "32254  [34519123886212, 34519123886212, 3451912388621...  \n",
       "62879  [33826420850820, 33826420850820, 3382642822362...  "
      ]
     },
     "metadata": {},
     "output_type": "display_data"
    },
    {
     "name": "stdout",
     "output_type": "stream",
     "text": [
      "\n",
      "Checking for mixed data types...\n",
      "No columns with mixed data types found.\n"
     ]
    }
   ],
   "source": [
    "dataset_initial_exploration(orders, 'Orders')"
   ]
  },
  {
   "cell_type": "markdown",
   "id": "99366ed3",
   "metadata": {},
   "source": [
    "### Check Regulars dataframe"
   ]
  },
  {
   "cell_type": "code",
   "execution_count": 4,
   "id": "a2dbf290",
   "metadata": {},
   "outputs": [
    {
     "name": "stdout",
     "output_type": "stream",
     "text": [
      "\n",
      "--- Regulars Initial check ---\n",
      "Shape: (18105, 3)\n",
      "\n",
      "Data Types:\n",
      " user_id               object\n",
      "variant_id             int64\n",
      "created_at    datetime64[us]\n",
      "dtype: object\n",
      "\n",
      "Missing Values:\n",
      " user_id       0\n",
      "variant_id    0\n",
      "created_at    0\n",
      "dtype: int64\n",
      "\n",
      "Sample Rows:\n",
      "\n"
     ]
    },
    {
     "data": {
      "text/html": [
       "<div>\n",
       "<style scoped>\n",
       "    .dataframe tbody tr th:only-of-type {\n",
       "        vertical-align: middle;\n",
       "    }\n",
       "\n",
       "    .dataframe tbody tr th {\n",
       "        vertical-align: top;\n",
       "    }\n",
       "\n",
       "    .dataframe thead th {\n",
       "        text-align: right;\n",
       "    }\n",
       "</style>\n",
       "<table border=\"1\" class=\"dataframe\">\n",
       "  <thead>\n",
       "    <tr style=\"text-align: right;\">\n",
       "      <th></th>\n",
       "      <th>user_id</th>\n",
       "      <th>variant_id</th>\n",
       "      <th>created_at</th>\n",
       "    </tr>\n",
       "  </thead>\n",
       "  <tbody>\n",
       "    <tr>\n",
       "      <th>11905</th>\n",
       "      <td>ce6ca649c21f4eec31ed7489f74743e4fc756c0805c3f8...</td>\n",
       "      <td>33973249081476</td>\n",
       "      <td>2020-12-28 12:37:56</td>\n",
       "    </tr>\n",
       "    <tr>\n",
       "      <th>13353</th>\n",
       "      <td>27c2c38327ba83867c6291ee6bd0c35548edd256ed51c9...</td>\n",
       "      <td>33826430615684</td>\n",
       "      <td>2021-02-02 15:17:30</td>\n",
       "    </tr>\n",
       "    <tr>\n",
       "      <th>29143</th>\n",
       "      <td>942ffe488c33bd14b354b835520ac688a642a643f4dc42...</td>\n",
       "      <td>39462593233028</td>\n",
       "      <td>2022-01-02 15:41:24</td>\n",
       "    </tr>\n",
       "    <tr>\n",
       "      <th>18307</th>\n",
       "      <td>85f4ad1a42b6a3d35c25d6e4fe8d3ae95ee76cafeb0170...</td>\n",
       "      <td>33667236200580</td>\n",
       "      <td>2021-04-18 05:56:07</td>\n",
       "    </tr>\n",
       "    <tr>\n",
       "      <th>10806</th>\n",
       "      <td>f44e1bcbd12fb6dda0303009fe143b454785c59514a5f4...</td>\n",
       "      <td>33667192488068</td>\n",
       "      <td>2020-11-11 08:03:00</td>\n",
       "    </tr>\n",
       "  </tbody>\n",
       "</table>\n",
       "</div>"
      ],
      "text/plain": [
       "                                                 user_id      variant_id  \\\n",
       "11905  ce6ca649c21f4eec31ed7489f74743e4fc756c0805c3f8...  33973249081476   \n",
       "13353  27c2c38327ba83867c6291ee6bd0c35548edd256ed51c9...  33826430615684   \n",
       "29143  942ffe488c33bd14b354b835520ac688a642a643f4dc42...  39462593233028   \n",
       "18307  85f4ad1a42b6a3d35c25d6e4fe8d3ae95ee76cafeb0170...  33667236200580   \n",
       "10806  f44e1bcbd12fb6dda0303009fe143b454785c59514a5f4...  33667192488068   \n",
       "\n",
       "               created_at  \n",
       "11905 2020-12-28 12:37:56  \n",
       "13353 2021-02-02 15:17:30  \n",
       "29143 2022-01-02 15:41:24  \n",
       "18307 2021-04-18 05:56:07  \n",
       "10806 2020-11-11 08:03:00  "
      ]
     },
     "metadata": {},
     "output_type": "display_data"
    },
    {
     "name": "stdout",
     "output_type": "stream",
     "text": [
      "\n",
      "Checking for mixed data types...\n",
      "No columns with mixed data types found.\n"
     ]
    }
   ],
   "source": [
    "dataset_initial_exploration(regulars, 'Regulars')"
   ]
  },
  {
   "cell_type": "markdown",
   "id": "ca1fecc8",
   "metadata": {},
   "source": [
    "### Check Abandoned dataframe"
   ]
  },
  {
   "cell_type": "code",
   "execution_count": 5,
   "id": "9efe9203",
   "metadata": {},
   "outputs": [
    {
     "name": "stdout",
     "output_type": "stream",
     "text": [
      "\n",
      "--- Abandoned Initial check ---\n",
      "Shape: (5457, 4)\n",
      "\n",
      "Data Types:\n",
      " id                     int64\n",
      "user_id               object\n",
      "created_at    datetime64[us]\n",
      "variant_id            object\n",
      "dtype: object\n",
      "\n",
      "Missing Values:\n",
      " id            0\n",
      "user_id       0\n",
      "created_at    0\n",
      "variant_id    0\n",
      "dtype: int64\n",
      "\n",
      "Sample Rows:\n",
      "\n"
     ]
    },
    {
     "data": {
      "text/html": [
       "<div>\n",
       "<style scoped>\n",
       "    .dataframe tbody tr th:only-of-type {\n",
       "        vertical-align: middle;\n",
       "    }\n",
       "\n",
       "    .dataframe tbody tr th {\n",
       "        vertical-align: top;\n",
       "    }\n",
       "\n",
       "    .dataframe thead th {\n",
       "        text-align: right;\n",
       "    }\n",
       "</style>\n",
       "<table border=\"1\" class=\"dataframe\">\n",
       "  <thead>\n",
       "    <tr style=\"text-align: right;\">\n",
       "      <th></th>\n",
       "      <th>id</th>\n",
       "      <th>user_id</th>\n",
       "      <th>created_at</th>\n",
       "      <th>variant_id</th>\n",
       "    </tr>\n",
       "  </thead>\n",
       "  <tbody>\n",
       "    <tr>\n",
       "      <th>68610</th>\n",
       "      <td>22190191018116</td>\n",
       "      <td>27cee4620c936faf5f9ba52f83f7db63507b58fa97adce...</td>\n",
       "      <td>2022-03-07 22:00:13</td>\n",
       "      <td>[39586616279172, 39284117930116, 33824368033924]</td>\n",
       "    </tr>\n",
       "    <tr>\n",
       "      <th>63281</th>\n",
       "      <td>22076935798916</td>\n",
       "      <td>0c56f52c7b80dc13af0400381cb14a3905f5021da07975...</td>\n",
       "      <td>2022-02-19 15:05:42</td>\n",
       "      <td>[34488548556932, 34529808908420, 3397324649280...</td>\n",
       "    </tr>\n",
       "    <tr>\n",
       "      <th>11576</th>\n",
       "      <td>21170925240452</td>\n",
       "      <td>187301747dc00cc39dae05ae129460d9bbeb9e9b4fcf9e...</td>\n",
       "      <td>2021-10-19 21:25:41</td>\n",
       "      <td>[33981947543684]</td>\n",
       "    </tr>\n",
       "    <tr>\n",
       "      <th>30140</th>\n",
       "      <td>21489573789828</td>\n",
       "      <td>1a8cbfa5c8ba19991732628356763831a29d444b031925...</td>\n",
       "      <td>2021-12-03 08:10:09</td>\n",
       "      <td>[34137388908676, 34221708640388]</td>\n",
       "    </tr>\n",
       "    <tr>\n",
       "      <th>5880</th>\n",
       "      <td>21064191082628</td>\n",
       "      <td>d9cbe73b472c9a5066d24261b74c388c53c11ad9035574...</td>\n",
       "      <td>2021-10-03 08:05:21</td>\n",
       "      <td>[34284950519940, 34284950421636, 3453716938765...</td>\n",
       "    </tr>\n",
       "  </tbody>\n",
       "</table>\n",
       "</div>"
      ],
      "text/plain": [
       "                   id                                            user_id  \\\n",
       "68610  22190191018116  27cee4620c936faf5f9ba52f83f7db63507b58fa97adce...   \n",
       "63281  22076935798916  0c56f52c7b80dc13af0400381cb14a3905f5021da07975...   \n",
       "11576  21170925240452  187301747dc00cc39dae05ae129460d9bbeb9e9b4fcf9e...   \n",
       "30140  21489573789828  1a8cbfa5c8ba19991732628356763831a29d444b031925...   \n",
       "5880   21064191082628  d9cbe73b472c9a5066d24261b74c388c53c11ad9035574...   \n",
       "\n",
       "               created_at                                         variant_id  \n",
       "68610 2022-03-07 22:00:13   [39586616279172, 39284117930116, 33824368033924]  \n",
       "63281 2022-02-19 15:05:42  [34488548556932, 34529808908420, 3397324649280...  \n",
       "11576 2021-10-19 21:25:41                                   [33981947543684]  \n",
       "30140 2021-12-03 08:10:09                   [34137388908676, 34221708640388]  \n",
       "5880  2021-10-03 08:05:21  [34284950519940, 34284950421636, 3453716938765...  "
      ]
     },
     "metadata": {},
     "output_type": "display_data"
    },
    {
     "name": "stdout",
     "output_type": "stream",
     "text": [
      "\n",
      "Checking for mixed data types...\n",
      "No columns with mixed data types found.\n"
     ]
    }
   ],
   "source": [
    "dataset_initial_exploration(abandoned, 'Abandoned')"
   ]
  },
  {
   "cell_type": "markdown",
   "id": "6f9b9c72",
   "metadata": {},
   "source": [
    "### Check Inventory dataframe"
   ]
  },
  {
   "cell_type": "code",
   "execution_count": 6,
   "id": "58f5d832",
   "metadata": {},
   "outputs": [
    {
     "name": "stdout",
     "output_type": "stream",
     "text": [
      "\n",
      "--- Inventory Initial check ---\n",
      "Shape: (1733, 6)\n",
      "\n",
      "Data Types:\n",
      " variant_id            int64\n",
      "price               float64\n",
      "compare_at_price    float64\n",
      "vendor               object\n",
      "product_type         object\n",
      "tags                 object\n",
      "dtype: object\n",
      "\n",
      "Missing Values:\n",
      " variant_id          0\n",
      "price               0\n",
      "compare_at_price    0\n",
      "vendor              0\n",
      "product_type        0\n",
      "tags                0\n",
      "dtype: int64\n",
      "\n",
      "Sample Rows:\n",
      "\n"
     ]
    },
    {
     "data": {
      "text/html": [
       "<div>\n",
       "<style scoped>\n",
       "    .dataframe tbody tr th:only-of-type {\n",
       "        vertical-align: middle;\n",
       "    }\n",
       "\n",
       "    .dataframe tbody tr th {\n",
       "        vertical-align: top;\n",
       "    }\n",
       "\n",
       "    .dataframe thead th {\n",
       "        text-align: right;\n",
       "    }\n",
       "</style>\n",
       "<table border=\"1\" class=\"dataframe\">\n",
       "  <thead>\n",
       "    <tr style=\"text-align: right;\">\n",
       "      <th></th>\n",
       "      <th>variant_id</th>\n",
       "      <th>price</th>\n",
       "      <th>compare_at_price</th>\n",
       "      <th>vendor</th>\n",
       "      <th>product_type</th>\n",
       "      <th>tags</th>\n",
       "    </tr>\n",
       "  </thead>\n",
       "  <tbody>\n",
       "    <tr>\n",
       "      <th>174</th>\n",
       "      <td>33826428223620</td>\n",
       "      <td>6.49</td>\n",
       "      <td>6.99</td>\n",
       "      <td>meridian</td>\n",
       "      <td>spreads</td>\n",
       "      <td>[savoury-spreads, vegan]</td>\n",
       "    </tr>\n",
       "    <tr>\n",
       "      <th>273</th>\n",
       "      <td>34488547442820</td>\n",
       "      <td>1.99</td>\n",
       "      <td>2.39</td>\n",
       "      <td>shreddedwheat</td>\n",
       "      <td>cereal</td>\n",
       "      <td>[everyday-cereal, pm]</td>\n",
       "    </tr>\n",
       "    <tr>\n",
       "      <th>1150</th>\n",
       "      <td>33826434089092</td>\n",
       "      <td>2.69</td>\n",
       "      <td>2.99</td>\n",
       "      <td>artisangrains</td>\n",
       "      <td>snacks-confectionery</td>\n",
       "      <td>[nuts-dried-fruit-seeds, protein-nutrient-powd...</td>\n",
       "    </tr>\n",
       "    <tr>\n",
       "      <th>1524</th>\n",
       "      <td>34537143795844</td>\n",
       "      <td>5.29</td>\n",
       "      <td>6.75</td>\n",
       "      <td>piccolo</td>\n",
       "      <td>baby-toddler-food</td>\n",
       "      <td>[discontinue, gluten-free, organic, pouches, s...</td>\n",
       "    </tr>\n",
       "    <tr>\n",
       "      <th>4</th>\n",
       "      <td>33803537973380</td>\n",
       "      <td>1.99</td>\n",
       "      <td>2.09</td>\n",
       "      <td>colgate</td>\n",
       "      <td>dental</td>\n",
       "      <td>[dental-accessories]</td>\n",
       "    </tr>\n",
       "  </tbody>\n",
       "</table>\n",
       "</div>"
      ],
      "text/plain": [
       "          variant_id  price  compare_at_price         vendor  \\\n",
       "174   33826428223620   6.49              6.99       meridian   \n",
       "273   34488547442820   1.99              2.39  shreddedwheat   \n",
       "1150  33826434089092   2.69              2.99  artisangrains   \n",
       "1524  34537143795844   5.29              6.75        piccolo   \n",
       "4     33803537973380   1.99              2.09        colgate   \n",
       "\n",
       "              product_type                                               tags  \n",
       "174                spreads                           [savoury-spreads, vegan]  \n",
       "273                 cereal                              [everyday-cereal, pm]  \n",
       "1150  snacks-confectionery  [nuts-dried-fruit-seeds, protein-nutrient-powd...  \n",
       "1524     baby-toddler-food  [discontinue, gluten-free, organic, pouches, s...  \n",
       "4                   dental                               [dental-accessories]  "
      ]
     },
     "metadata": {},
     "output_type": "display_data"
    },
    {
     "name": "stdout",
     "output_type": "stream",
     "text": [
      "\n",
      "Checking for mixed data types...\n",
      "No columns with mixed data types found.\n"
     ]
    }
   ],
   "source": [
    "dataset_initial_exploration(inventory, 'Inventory')"
   ]
  },
  {
   "cell_type": "markdown",
   "id": "f0e118c0",
   "metadata": {},
   "source": [
    "### Check Users dataframe"
   ]
  },
  {
   "cell_type": "code",
   "execution_count": 7,
   "id": "15a5db72",
   "metadata": {},
   "outputs": [
    {
     "name": "stdout",
     "output_type": "stream",
     "text": [
      "\n",
      "--- Users Initial check ---\n",
      "Shape: (4983, 10)\n",
      "\n",
      "Data Types:\n",
      " user_id                   object\n",
      "user_segment              object\n",
      "user_nuts1                object\n",
      "first_ordered_at          object\n",
      "customer_cohort_month     object\n",
      "count_people             float64\n",
      "count_adults             float64\n",
      "count_children           float64\n",
      "count_babies             float64\n",
      "count_pets               float64\n",
      "dtype: object\n",
      "\n",
      "Missing Values:\n",
      " user_id                     0\n",
      "user_segment                0\n",
      "user_nuts1                 51\n",
      "first_ordered_at            0\n",
      "customer_cohort_month       0\n",
      "count_people             4658\n",
      "count_adults             4658\n",
      "count_children           4658\n",
      "count_babies             4658\n",
      "count_pets               4658\n",
      "dtype: int64\n",
      "\n",
      "Sample Rows:\n",
      "\n"
     ]
    },
    {
     "data": {
      "text/html": [
       "<div>\n",
       "<style scoped>\n",
       "    .dataframe tbody tr th:only-of-type {\n",
       "        vertical-align: middle;\n",
       "    }\n",
       "\n",
       "    .dataframe tbody tr th {\n",
       "        vertical-align: top;\n",
       "    }\n",
       "\n",
       "    .dataframe thead th {\n",
       "        text-align: right;\n",
       "    }\n",
       "</style>\n",
       "<table border=\"1\" class=\"dataframe\">\n",
       "  <thead>\n",
       "    <tr style=\"text-align: right;\">\n",
       "      <th></th>\n",
       "      <th>user_id</th>\n",
       "      <th>user_segment</th>\n",
       "      <th>user_nuts1</th>\n",
       "      <th>first_ordered_at</th>\n",
       "      <th>customer_cohort_month</th>\n",
       "      <th>count_people</th>\n",
       "      <th>count_adults</th>\n",
       "      <th>count_children</th>\n",
       "      <th>count_babies</th>\n",
       "      <th>count_pets</th>\n",
       "    </tr>\n",
       "  </thead>\n",
       "  <tbody>\n",
       "    <tr>\n",
       "      <th>2137</th>\n",
       "      <td>cb87f3f5aff1d68079f6e14161e9763a73786620191d46...</td>\n",
       "      <td>Top Up</td>\n",
       "      <td>UKD</td>\n",
       "      <td>2021-09-10 11:37:29</td>\n",
       "      <td>2021-09-01 00:00:00</td>\n",
       "      <td>NaN</td>\n",
       "      <td>NaN</td>\n",
       "      <td>NaN</td>\n",
       "      <td>NaN</td>\n",
       "      <td>NaN</td>\n",
       "    </tr>\n",
       "    <tr>\n",
       "      <th>3924</th>\n",
       "      <td>760f829b399af2a05357b385e842fd400f1a27775bf327...</td>\n",
       "      <td>Proposition</td>\n",
       "      <td>UKE</td>\n",
       "      <td>2021-05-21 21:02:16</td>\n",
       "      <td>2021-05-01 00:00:00</td>\n",
       "      <td>NaN</td>\n",
       "      <td>NaN</td>\n",
       "      <td>NaN</td>\n",
       "      <td>NaN</td>\n",
       "      <td>NaN</td>\n",
       "    </tr>\n",
       "    <tr>\n",
       "      <th>2119</th>\n",
       "      <td>d3d5fc69d303fc16190b59dbd4531621176524c1ea621e...</td>\n",
       "      <td>Proposition</td>\n",
       "      <td>UKF</td>\n",
       "      <td>2021-07-01 15:48:08</td>\n",
       "      <td>2021-07-01 00:00:00</td>\n",
       "      <td>NaN</td>\n",
       "      <td>NaN</td>\n",
       "      <td>NaN</td>\n",
       "      <td>NaN</td>\n",
       "      <td>NaN</td>\n",
       "    </tr>\n",
       "    <tr>\n",
       "      <th>3582</th>\n",
       "      <td>aa3321ffa93eccf92794719b4ceccd67adc866ed3e1955...</td>\n",
       "      <td>Proposition</td>\n",
       "      <td>UKI</td>\n",
       "      <td>2021-10-11 11:29:44</td>\n",
       "      <td>2021-10-01 00:00:00</td>\n",
       "      <td>NaN</td>\n",
       "      <td>NaN</td>\n",
       "      <td>NaN</td>\n",
       "      <td>NaN</td>\n",
       "      <td>NaN</td>\n",
       "    </tr>\n",
       "    <tr>\n",
       "      <th>2310</th>\n",
       "      <td>af741ae025e7d7d35e95ce5812b7f980776fb9f6cdd028...</td>\n",
       "      <td>Proposition</td>\n",
       "      <td>UKD</td>\n",
       "      <td>2022-02-03 14:41:17</td>\n",
       "      <td>2022-02-01 00:00:00</td>\n",
       "      <td>NaN</td>\n",
       "      <td>NaN</td>\n",
       "      <td>NaN</td>\n",
       "      <td>NaN</td>\n",
       "      <td>NaN</td>\n",
       "    </tr>\n",
       "  </tbody>\n",
       "</table>\n",
       "</div>"
      ],
      "text/plain": [
       "                                                user_id user_segment  \\\n",
       "2137  cb87f3f5aff1d68079f6e14161e9763a73786620191d46...       Top Up   \n",
       "3924  760f829b399af2a05357b385e842fd400f1a27775bf327...  Proposition   \n",
       "2119  d3d5fc69d303fc16190b59dbd4531621176524c1ea621e...  Proposition   \n",
       "3582  aa3321ffa93eccf92794719b4ceccd67adc866ed3e1955...  Proposition   \n",
       "2310  af741ae025e7d7d35e95ce5812b7f980776fb9f6cdd028...  Proposition   \n",
       "\n",
       "     user_nuts1     first_ordered_at customer_cohort_month  count_people  \\\n",
       "2137        UKD  2021-09-10 11:37:29   2021-09-01 00:00:00           NaN   \n",
       "3924        UKE  2021-05-21 21:02:16   2021-05-01 00:00:00           NaN   \n",
       "2119        UKF  2021-07-01 15:48:08   2021-07-01 00:00:00           NaN   \n",
       "3582        UKI  2021-10-11 11:29:44   2021-10-01 00:00:00           NaN   \n",
       "2310        UKD  2022-02-03 14:41:17   2022-02-01 00:00:00           NaN   \n",
       "\n",
       "      count_adults  count_children  count_babies  count_pets  \n",
       "2137           NaN             NaN           NaN         NaN  \n",
       "3924           NaN             NaN           NaN         NaN  \n",
       "2119           NaN             NaN           NaN         NaN  \n",
       "3582           NaN             NaN           NaN         NaN  \n",
       "2310           NaN             NaN           NaN         NaN  "
      ]
     },
     "metadata": {},
     "output_type": "display_data"
    },
    {
     "name": "stdout",
     "output_type": "stream",
     "text": [
      "\n",
      "Checking for mixed data types...\n",
      "\n",
      "Column 'user_nuts1' has mixed types:\n",
      "user_nuts1\n",
      "str         4932\n",
      "NoneType      51\n",
      "Name: count, dtype: int64\n"
     ]
    }
   ],
   "source": [
    "dataset_initial_exploration(users, 'Users')"
   ]
  },
  {
   "cell_type": "markdown",
   "id": "ab89ab9f",
   "metadata": {},
   "source": [
    "We detected some problems in this dataset. On the one hand, the count variables have most of the missing values, so perhaps they should be discarded. On the other hand, we found missing values in Nuts, although there are only a few, so these users could be removed."
   ]
  },
  {
   "cell_type": "markdown",
   "id": "4a555c7b",
   "metadata": {},
   "source": [
    "# Initial questions and hypothesis"
   ]
  },
  {
   "cell_type": "markdown",
   "id": "a629eef4",
   "metadata": {},
   "source": [
    "### 1. Which products are the best sellers? Which products are abandoned more frequently?"
   ]
  },
  {
   "cell_type": "code",
   "execution_count": 8,
   "id": "e401b50d",
   "metadata": {},
   "outputs": [
    {
     "name": "stdout",
     "output_type": "stream",
     "text": [
      "       variant_id  order_count                     product_type\n",
      "0  34081589887108         4487       long-life-milk-substitutes\n",
      "1  39284117930116         2658                              NaN\n",
      "2  34137590366340         1459                              NaN\n",
      "3  34081331970180         1170                              NaN\n",
      "4  34284951863428         1133  toilet-roll-kitchen-roll-tissue\n",
      "5  34284950356100          954                      dishwashing\n",
      "6  34370361229444          939  toilet-roll-kitchen-roll-tissue\n",
      "7  33826465153156          884              tins-packaged-foods\n",
      "8  34284949766276          838  toilet-roll-kitchen-roll-tissue\n",
      "9  34284950454404          683        fabric-softener-freshener\n"
     ]
    }
   ],
   "source": [
    "orders_exploded = orders.explode(\"ordered_items\")\n",
    "\n",
    "item_counts = orders_exploded['ordered_items'].value_counts().reset_index()\n",
    "item_counts.columns = ['variant_id', 'order_count']  # rename to match inventory\n",
    "\n",
    "inventory_subset = inventory[['variant_id', 'product_type']]\n",
    "result = item_counts.merge(inventory_subset, on='variant_id', how='left')\n",
    "\n",
    "result_sorted = result.sort_values(by='order_count', ascending=False)\n",
    "print(result_sorted.head(10))"
   ]
  },
  {
   "cell_type": "markdown",
   "id": "2bbd25ff",
   "metadata": {},
   "source": [
    "We see that the best-selling product is long-life-milk-substitutes and that we do not have the name of the next 3 best selling products"
   ]
  },
  {
   "cell_type": "code",
   "execution_count": 9,
   "id": "57116e77",
   "metadata": {},
   "outputs": [
    {
     "name": "stdout",
     "output_type": "stream",
     "text": [
      "       variant_id  order_count                     product_type\n",
      "0  34081589887108          608       long-life-milk-substitutes\n",
      "1  34284951863428          478  toilet-roll-kitchen-roll-tissue\n",
      "2  34284950356100          409                      dishwashing\n",
      "3  34137590366340          395                              NaN\n",
      "4  34284949766276          382  toilet-roll-kitchen-roll-tissue\n",
      "5  34284950519940          307                      dishwashing\n",
      "6  34284950454404          306        fabric-softener-freshener\n",
      "7  39459279929476          305                           dental\n",
      "8  39284117930116          298                              NaN\n",
      "9  34037939372164          290  toilet-roll-kitchen-roll-tissue\n"
     ]
    }
   ],
   "source": [
    "abandoned_exploded = abandoned.explode(\"variant_id\")\n",
    "\n",
    "item_counts = abandoned_exploded['variant_id'].value_counts().reset_index()\n",
    "item_counts.columns = ['variant_id', 'order_count']  \n",
    "\n",
    "inventory_subset = inventory[['variant_id', 'product_type']]\n",
    "result = item_counts.merge(inventory_subset, on='variant_id', how='left')\n",
    "\n",
    "result_sorted = result.sort_values(by='order_count', ascending=False)\n",
    "print(result_sorted.head(10))"
   ]
  },
  {
   "cell_type": "markdown",
   "id": "049caac9",
   "metadata": {},
   "source": [
    "## 2. What are nuts? How many different nuts are there?\n",
    "Searching the internet I found It's a hierarchical system used by the European Union (EU) to categorize regions for statistical purposes."
   ]
  },
  {
   "cell_type": "code",
   "execution_count": 10,
   "id": "4926c87d",
   "metadata": {},
   "outputs": [
    {
     "name": "stdout",
     "output_type": "stream",
     "text": [
      "\n",
      "Total nuts (excluding NaNs): 12\n",
      "\n",
      "List of NUTS:\n",
      "- UKC\n",
      "- UKD\n",
      "- UKE\n",
      "- UKF\n",
      "- UKG\n",
      "- UKH\n",
      "- UKI\n",
      "- UKJ\n",
      "- UKK\n",
      "- UKL\n",
      "- UKM\n",
      "- UKN\n"
     ]
    }
   ],
   "source": [
    "unique_nuts = users['user_nuts1'].dropna().unique()\n",
    "\n",
    "print(f\"\\nTotal nuts (excluding NaNs): {len(unique_nuts)}\\n\")\n",
    "print(\"List of NUTS:\")\n",
    "for nut in sorted(unique_nuts):\n",
    "    print(f\"- {nut}\")"
   ]
  },
  {
   "cell_type": "markdown",
   "id": "394bc615",
   "metadata": {},
   "source": [
    "In the case of our dataset we see that they all correspond to the UK, so this gives us an idea of the region where our company sells."
   ]
  },
  {
   "cell_type": "code",
   "execution_count": 11,
   "id": "820c9cfd",
   "metadata": {},
   "outputs": [],
   "source": [
    "nuts1_to_region = {\n",
    "    \"UKC\": \"North East\",\n",
    "    \"UKD\": \"North West\",\n",
    "    \"UKE\": \"Yorkshire and the Humber\",\n",
    "    \"UKF\": \"East Midlands\",\n",
    "    \"UKG\": \"West Midlands\",\n",
    "    \"UKH\": \"East of England\",\n",
    "    \"UKI\": \"London\",\n",
    "    \"UKJ\": \"South East\",\n",
    "    \"UKK\": \"South West\",\n",
    "    \"UKL\": \"Wales\",\n",
    "    \"UKM\": \"Scotland\",\n",
    "    \"UKN\": \"Northern Ireland\"\n",
    "}\n"
   ]
  },
  {
   "cell_type": "code",
   "execution_count": 12,
   "id": "bcfe3ea3",
   "metadata": {},
   "outputs": [
    {
     "data": {
      "image/png": "[encoded data removed]",
      "text/plain": [
       "<Figure size 1000x600 with 1 Axes>"
      ]
     },
     "metadata": {},
     "output_type": "display_data"
    }
   ],
   "source": [
    "region_counts = users['user_nuts1'].map(nuts1_to_region).value_counts()\n",
    "\n",
    "import matplotlib.pyplot as plt\n",
    "\n",
    "region_counts.sort_values().plot(kind='barh', figsize=(10,6), color='skyblue')\n",
    "plt.title('Number of Users per Region')\n",
    "plt.xlabel('User Count')\n",
    "plt.ylabel('Region')\n",
    "plt.tight_layout()\n",
    "plt.show()\n"
   ]
  },
  {
   "cell_type": "markdown",
   "id": "da1038e2",
   "metadata": {},
   "source": [
    "## 3. What are user segments?"
   ]
  },
  {
   "cell_type": "code",
   "execution_count": 13,
   "id": "7385d3a9",
   "metadata": {},
   "outputs": [
    {
     "name": "stdout",
     "output_type": "stream",
     "text": [
      "\n",
      "Total segments (excluding NaNs): 2\n",
      "\n",
      "List of SEGMENTS:\n",
      "- Proposition\n",
      "- Top Up\n"
     ]
    }
   ],
   "source": [
    "unique_segments = users['user_segment'].dropna().unique()\n",
    "\n",
    "print(f\"\\nTotal segments (excluding NaNs): {len(unique_segments)}\\n\")\n",
    "print(\"List of SEGMENTS:\")\n",
    "for segment in sorted(unique_segments):\n",
    "    print(f\"- {segment}\")"
   ]
  },
  {
   "cell_type": "markdown",
   "id": "9f67082c",
   "metadata": {},
   "source": [
    "It seems that customers are classified into two categories.Top-up may refer to recurring customers while Proposition may refer to occasional customers. "
   ]
  },
  {
   "cell_type": "code",
   "execution_count": 14,
   "id": "4ce7bc62",
   "metadata": {},
   "outputs": [
    {
     "name": "stdout",
     "output_type": "stream",
     "text": [
      "  user_segment  total_orders_x  total_items  avg_items_per_order  total_users  \\\n",
      "0  Proposition            4177        65373            15.650706         2340   \n",
      "1       Top Up            4596        42585             9.265666         2643   \n",
      "\n",
      "   total_orders_y  avg_orders_per_user  \n",
      "0            4177             1.785043  \n",
      "1            4596             1.738933  \n"
     ]
    }
   ],
   "source": [
    "orders_with_segment = orders.merge(users[['user_id', 'user_segment']], on='user_id', how='left')\n",
    "\n",
    "orders_exploded = orders_with_segment.explode(\"ordered_items\")\n",
    "\n",
    "item_counts_per_order = orders_exploded.groupby('id').size().reset_index(name='item_count')\n",
    "\n",
    "order_meta = orders_with_segment[['id', 'user_id', 'user_segment']].drop_duplicates()\n",
    "item_counts_with_segment = item_counts_per_order.merge(order_meta, on='id', how='left')\n",
    "\n",
    "segment_order_stats = item_counts_with_segment.groupby('user_segment').agg(\n",
    "    total_orders=('id', 'count'),\n",
    "    total_items=('item_count', 'sum'),\n",
    "    avg_items_per_order=('item_count', 'mean')\n",
    ").reset_index()\n",
    "\n",
    "orders_per_user = orders['user_id'].value_counts().reset_index()\n",
    "orders_per_user.columns = ['user_id', 'order_count']\n",
    "\n",
    "users_with_orders = users.merge(orders_per_user, on='user_id', how='left')\n",
    "users_with_orders['order_count'] = users_with_orders['order_count'].fillna(0)\n",
    "\n",
    "segment_user_stats = users_with_orders.groupby('user_segment').agg(\n",
    "    total_users=('user_id', 'count'),\n",
    "    total_orders=('order_count', 'sum'),\n",
    "    avg_orders_per_user=('order_count', 'mean')\n",
    ").reset_index()\n",
    "\n",
    "final_stats = segment_order_stats.merge(segment_user_stats, on='user_segment', how='outer')\n",
    "\n",
    "final_stats = final_stats.sort_values(by='avg_items_per_order', ascending=False)\n",
    "print(final_stats)"
   ]
  },
  {
   "cell_type": "markdown",
   "id": "86421a10",
   "metadata": {},
   "source": [
    "Apparently the difference seems to be in the average basket size, which is larger in the Proposition segment"
   ]
  },
  {
   "cell_type": "markdown",
   "id": "bd400a69",
   "metadata": {},
   "source": [
    "## 4. How many products in the orders are not in inventory? "
   ]
  },
  {
   "cell_type": "code",
   "execution_count": 15,
   "id": "e9f6a5e7",
   "metadata": {},
   "outputs": [
    {
     "name": "stdout",
     "output_type": "stream",
     "text": [
      "Number of product IDs in orders not found in inventory: 640\n",
      "Number of products in inventory never ordered: 256\n",
      "Number of abandoned product IDs not found in inventory: 114\n",
      "Number of regular product IDs not found in inventory: 558\n"
     ]
    }
   ],
   "source": [
    "order_items = orders['ordered_items'].explode().unique()\n",
    "inventory_ids = inventory['variant_id'].dropna().unique()\n",
    "missing = set(order_items) - set(inventory_ids)\n",
    "print(f\"Number of product IDs in orders not found in inventory: {len(missing)}\")\n",
    "\n",
    "unordered = set(inventory_ids) - set(order_items)\n",
    "print(f\"Number of products in inventory never ordered: {len(unordered)}\")\n",
    "\n",
    "abandoned_items = abandoned['variant_id'].explode().unique()\n",
    "missing_abandoned = set(abandoned_items) - set(inventory_ids)\n",
    "print(f\"Number of abandoned product IDs not found in inventory: {len(missing_abandoned)}\")\n",
    "\n",
    "regular_items = regulars['variant_id'].unique()\n",
    "missing_regulars = set(regular_items) - set(inventory_ids)\n",
    "print(f\"Number of regular product IDs not found in inventory: {len(missing_regulars)}\")"
   ]
  },
  {
   "cell_type": "markdown",
   "id": "416dd26f",
   "metadata": {},
   "source": [
    "We see that the products in the inventory are changing, which is a problem if we want to design a model and use the previous data."
   ]
  }
 ],
 "metadata": {
  "kernelspec": {
   "display_name": "zrive-ds-unSByVQs-py3.11",
   "language": "python",
   "name": "python3"
  },
  "language_info": {
   "codemirror_mode": {
    "name": "ipython",
    "version": 3
   },
   "file_extension": ".py",
   "mimetype": "text/x-python",
   "name": "python",
   "nbconvert_exporter": "python",
   "pygments_lexer": "ipython3",
   "version": "3.11.0"
  }
 },
 "nbformat": 4,
 "nbformat_minor": 5
}
