{
 "cells": [
  {
   "cell_type": "markdown",
   "id": "fa0fa229",
   "metadata": {},
   "source": [
    "Module 2: EDA"
   ]
  },
  {
   "cell_type": "code",
   "execution_count": null,
   "id": "e05fed43",
   "metadata": {},
   "outputs": [],
   "source": [
    "import os \n",
    "import boto3"
   ]
  },
  {
   "cell_type": "code",
   "execution_count": null,
   "id": "3c678180",
   "metadata": {},
   "outputs": [],
   "source": []
  }
 ],
 "metadata": {
  "kernelspec": {
   "display_name": "zrive-ds-unSByVQs-py3.11",
   "language": "python",
   "name": "python3"
  },
  "language_info": {
   "codemirror_mode": {
    "name": "ipython",
    "version": 3
   },
   "file_extension": ".py",
   "mimetype": "text/x-python",
   "name": "python",
   "nbconvert_exporter": "python",
   "pygments_lexer": "ipython3",
   "version": "3.11.0"
  }
 },
 "nbformat": 4,
 "nbformat_minor": 5
}
